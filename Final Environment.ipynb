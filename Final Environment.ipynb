{
  "cells": [
    {
      "cell_type": "code",
      "execution_count": 1,
      "metadata": {
        "colab": {
          "base_uri": "https://localhost:8080/"
        },
        "id": "ztZ8fZlZIAXI",
        "outputId": "7ce1645d-656f-4f48-efe6-897135626f5e"
      },
      "outputs": [
        {
          "name": "stdout",
          "output_type": "stream",
          "text": [
            "Collecting stable-baselines3\n",
            "  Downloading stable_baselines3-2.3.2-py3-none-any.whl.metadata (5.1 kB)\n",
            "Requirement already satisfied: gym in /usr/local/lib/python3.10/dist-packages (0.25.2)\n",
            "Requirement already satisfied: numpy in /usr/local/lib/python3.10/dist-packages (1.26.4)\n",
            "Collecting gymnasium<0.30,>=0.28.1 (from stable-baselines3)\n",
            "  Downloading gymnasium-0.29.1-py3-none-any.whl.metadata (10 kB)\n",
            "Requirement already satisfied: torch>=1.13 in /usr/local/lib/python3.10/dist-packages (from stable-baselines3) (2.4.1+cu121)\n",
            "Requirement already satisfied: cloudpickle in /usr/local/lib/python3.10/dist-packages (from stable-baselines3) (2.2.1)\n",
            "Requirement already satisfied: pandas in /usr/local/lib/python3.10/dist-packages (from stable-baselines3) (2.1.4)\n",
            "Requirement already satisfied: matplotlib in /usr/local/lib/python3.10/dist-packages (from stable-baselines3) (3.7.1)\n",
            "Requirement already satisfied: gym-notices>=0.0.4 in /usr/local/lib/python3.10/dist-packages (from gym) (0.0.8)\n",
            "Requirement already satisfied: typing-extensions>=4.3.0 in /usr/local/lib/python3.10/dist-packages (from gymnasium<0.30,>=0.28.1->stable-baselines3) (4.12.2)\n",
            "Collecting farama-notifications>=0.0.1 (from gymnasium<0.30,>=0.28.1->stable-baselines3)\n",
            "  Downloading Farama_Notifications-0.0.4-py3-none-any.whl.metadata (558 bytes)\n",
            "Requirement already satisfied: filelock in /usr/local/lib/python3.10/dist-packages (from torch>=1.13->stable-baselines3) (3.16.1)\n",
            "Requirement already satisfied: sympy in /usr/local/lib/python3.10/dist-packages (from torch>=1.13->stable-baselines3) (1.13.3)\n",
            "Requirement already satisfied: networkx in /usr/local/lib/python3.10/dist-packages (from torch>=1.13->stable-baselines3) (3.3)\n",
            "Requirement already satisfied: jinja2 in /usr/local/lib/python3.10/dist-packages (from torch>=1.13->stable-baselines3) (3.1.4)\n",
            "Requirement already satisfied: fsspec in /usr/local/lib/python3.10/dist-packages (from torch>=1.13->stable-baselines3) (2024.6.1)\n",
            "Requirement already satisfied: contourpy>=1.0.1 in /usr/local/lib/python3.10/dist-packages (from matplotlib->stable-baselines3) (1.3.0)\n",
            "Requirement already satisfied: cycler>=0.10 in /usr/local/lib/python3.10/dist-packages (from matplotlib->stable-baselines3) (0.12.1)\n",
            "Requirement already satisfied: fonttools>=4.22.0 in /usr/local/lib/python3.10/dist-packages (from matplotlib->stable-baselines3) (4.53.1)\n",
            "Requirement already satisfied: kiwisolver>=1.0.1 in /usr/local/lib/python3.10/dist-packages (from matplotlib->stable-baselines3) (1.4.7)\n",
            "Requirement already satisfied: packaging>=20.0 in /usr/local/lib/python3.10/dist-packages (from matplotlib->stable-baselines3) (24.1)\n",
            "Requirement already satisfied: pillow>=6.2.0 in /usr/local/lib/python3.10/dist-packages (from matplotlib->stable-baselines3) (10.4.0)\n",
            "Requirement already satisfied: pyparsing>=2.3.1 in /usr/local/lib/python3.10/dist-packages (from matplotlib->stable-baselines3) (3.1.4)\n",
            "Requirement already satisfied: python-dateutil>=2.7 in /usr/local/lib/python3.10/dist-packages (from matplotlib->stable-baselines3) (2.8.2)\n",
            "Requirement already satisfied: pytz>=2020.1 in /usr/local/lib/python3.10/dist-packages (from pandas->stable-baselines3) (2024.2)\n",
            "Requirement already satisfied: tzdata>=2022.1 in /usr/local/lib/python3.10/dist-packages (from pandas->stable-baselines3) (2024.1)\n",
            "Requirement already satisfied: six>=1.5 in /usr/local/lib/python3.10/dist-packages (from python-dateutil>=2.7->matplotlib->stable-baselines3) (1.16.0)\n",
            "Requirement already satisfied: MarkupSafe>=2.0 in /usr/local/lib/python3.10/dist-packages (from jinja2->torch>=1.13->stable-baselines3) (2.1.5)\n",
            "Requirement already satisfied: mpmath<1.4,>=1.1.0 in /usr/local/lib/python3.10/dist-packages (from sympy->torch>=1.13->stable-baselines3) (1.3.0)\n",
            "Downloading stable_baselines3-2.3.2-py3-none-any.whl (182 kB)\n",
            "\u001b[2K   \u001b[90m━━━━━━━━━━━━━━━━━━━━━━━━━━━━━━━━━━━━━━━━\u001b[0m \u001b[32m182.3/182.3 kB\u001b[0m \u001b[31m3.8 MB/s\u001b[0m eta \u001b[36m0:00:00\u001b[0m\n",
            "\u001b[?25hDownloading gymnasium-0.29.1-py3-none-any.whl (953 kB)\n",
            "\u001b[2K   \u001b[90m━━━━━━━━━━━━━━━━━━━━━━━━━━━━━━━━━━━━━━━━\u001b[0m \u001b[32m953.9/953.9 kB\u001b[0m \u001b[31m18.3 MB/s\u001b[0m eta \u001b[36m0:00:00\u001b[0m\n",
            "\u001b[?25hDownloading Farama_Notifications-0.0.4-py3-none-any.whl (2.5 kB)\n",
            "Installing collected packages: farama-notifications, gymnasium, stable-baselines3\n",
            "Successfully installed farama-notifications-0.0.4 gymnasium-0.29.1 stable-baselines3-2.3.2\n"
          ]
        }
      ],
      "source": [
        "pip install stable-baselines3 gym numpy"
      ]
    },
    {
      "cell_type": "code",
      "execution_count": 5,
      "metadata": {
        "colab": {
          "base_uri": "https://localhost:8080/"
        },
        "id": "Gjffz1w_IQ39",
        "outputId": "2fd9a695-a11c-4d3d-f598-d450cad3deff"
      },
      "outputs": [
        {
          "name": "stdout",
          "output_type": "stream",
          "text": [
            "Requirement already satisfied: shimmy in /usr/local/lib/python3.10/dist-packages (2.0.0)\n",
            "Requirement already satisfied: numpy>=1.18.0 in /usr/local/lib/python3.10/dist-packages (from shimmy) (1.26.4)\n",
            "Requirement already satisfied: gymnasium>=1.0.0a1 in /usr/local/lib/python3.10/dist-packages (from shimmy) (1.0.0a2)\n",
            "Requirement already satisfied: cloudpickle>=1.2.0 in /usr/local/lib/python3.10/dist-packages (from gymnasium>=1.0.0a1->shimmy) (2.2.1)\n",
            "Requirement already satisfied: typing-extensions>=4.3.0 in /usr/local/lib/python3.10/dist-packages (from gymnasium>=1.0.0a1->shimmy) (4.12.2)\n",
            "Requirement already satisfied: farama-notifications>=0.0.1 in /usr/local/lib/python3.10/dist-packages (from gymnasium>=1.0.0a1->shimmy) (0.0.4)\n"
          ]
        }
      ],
      "source": [
        "pip install shimmy"
      ]
    },
    {
      "cell_type": "code",
      "execution_count": 88,
      "metadata": {
        "colab": {
          "base_uri": "https://localhost:8080/",
          "height": 485
        },
        "id": "YjxES4KHCDnH",
        "outputId": "3a289a14-a82f-4ce8-ecdd-55c4f300e722"
      },
      "outputs": [
        {
          "data": {
            "image/png": "[encoded data removed]",
            "text/plain": [
              "<Figure size 500x500 with 1 Axes>"
            ]
          },
          "metadata": {},
          "output_type": "display_data"
        },
        {
          "name": "stdout",
          "output_type": "stream",
          "text": [
            "All agents reached their goals!\n"
          ]
        }
      ],
      "source": [
        "from stable_baselines3 import PPO\n",
        "\n",
        "# Initialize the multi-agent environment with 2 agents and 3 obstacles\n",
        "env = MultiAgentWarehouseEnv(rows=5, cols=5, num_agents=2, num_obstacles=5)\n",
        "\n",
        "# Initialize PPO model for multi-agent environment\n",
        "model = PPO(\"MlpPolicy\", env, verbose=1)\n",
        "\n",
        "# Train the model\n",
        "model.learn(total_timesteps=10000)\n",
        "model.save(\"PPO MLP\")\n",
        "# Test the trained model\n",
        "obs = env.reset()\n",
        "for i in range(200):\n",
        "    action, _states = model.predict(obs)\n",
        "    obs, reward, done, _ = env.step(action)\n",
        "    env.render()\n",
        "    if done:\n",
        "        print(\"All agents reached their goals!\")\n",
        "        break\n",
        "\n",
        "env.close()\n"
      ]
    },
    {
      "cell_type": "code",
      "execution_count": 91,
      "metadata": {
        "colab": {
          "base_uri": "https://localhost:8080/",
          "height": 332
        },
        "id": "t4hWh2lLCGn7",
        "outputId": "5f4ec3b6-5b57-4f2c-c14e-a14fac936dd9"
      },
      "outputs": [
        {
          "ename": "TypeError",
          "evalue": "'bool' object is not subscriptable",
          "output_type": "error",
          "traceback": [
            "\u001b[0;31m---------------------------------------------------------------------------\u001b[0m",
            "\u001b[0;31mTypeError\u001b[0m                                 Traceback (most recent call last)",
            "\u001b[0;32m<ipython-input-91-fddcfb02fcf1>\u001b[0m in \u001b[0;36m<cell line: 90>\u001b[0;34m()\u001b[0m\n\u001b[1;32m     88\u001b[0m \u001b[0;34m\u001b[0m\u001b[0m\n\u001b[1;32m     89\u001b[0m \u001b[0;31m# Test the agents and collect the necessary data\u001b[0m\u001b[0;34m\u001b[0m\u001b[0;34m\u001b[0m\u001b[0m\n\u001b[0;32m---> 90\u001b[0;31m \u001b[0mtotal_rewards\u001b[0m\u001b[0;34m,\u001b[0m \u001b[0msteps\u001b[0m\u001b[0;34m,\u001b[0m \u001b[0mpositions\u001b[0m\u001b[0;34m,\u001b[0m \u001b[0mrewards_per_step\u001b[0m\u001b[0;34m,\u001b[0m \u001b[0mtotal_time\u001b[0m \u001b[0;34m=\u001b[0m \u001b[0mtest_agents\u001b[0m\u001b[0;34m(\u001b[0m\u001b[0menv\u001b[0m\u001b[0;34m,\u001b[0m \u001b[0mmodel\u001b[0m\u001b[0;34m)\u001b[0m\u001b[0;34m\u001b[0m\u001b[0;34m\u001b[0m\u001b[0m\n\u001b[0m\u001b[1;32m     91\u001b[0m \u001b[0;34m\u001b[0m\u001b[0m\n\u001b[1;32m     92\u001b[0m \u001b[0;31m# Visualize the results for both agents\u001b[0m\u001b[0;34m\u001b[0m\u001b[0;34m\u001b[0m\u001b[0m\n",
            "\u001b[0;32m<ipython-input-91-fddcfb02fcf1>\u001b[0m in \u001b[0;36mtest_agents\u001b[0;34m(env, model, max_steps)\u001b[0m\n\u001b[1;32m     20\u001b[0m         \u001b[0;31m# Track data for each agent\u001b[0m\u001b[0;34m\u001b[0m\u001b[0;34m\u001b[0m\u001b[0m\n\u001b[1;32m     21\u001b[0m         \u001b[0;32mfor\u001b[0m \u001b[0mi\u001b[0m \u001b[0;32min\u001b[0m \u001b[0mrange\u001b[0m\u001b[0;34m(\u001b[0m\u001b[0menv\u001b[0m\u001b[0;34m.\u001b[0m\u001b[0mnum_agents\u001b[0m\u001b[0;34m)\u001b[0m\u001b[0;34m:\u001b[0m\u001b[0;34m\u001b[0m\u001b[0;34m\u001b[0m\u001b[0m\n\u001b[0;32m---> 22\u001b[0;31m             \u001b[0;32mif\u001b[0m \u001b[0;32mnot\u001b[0m \u001b[0mdone_list\u001b[0m\u001b[0;34m[\u001b[0m\u001b[0mi\u001b[0m\u001b[0;34m]\u001b[0m\u001b[0;34m:\u001b[0m  \u001b[0;31m# Only track if the agent is still moving\u001b[0m\u001b[0;34m\u001b[0m\u001b[0;34m\u001b[0m\u001b[0m\n\u001b[0m\u001b[1;32m     23\u001b[0m                 \u001b[0mpositions\u001b[0m\u001b[0;34m[\u001b[0m\u001b[0mi\u001b[0m\u001b[0;34m]\u001b[0m\u001b[0;34m.\u001b[0m\u001b[0mappend\u001b[0m\u001b[0;34m(\u001b[0m\u001b[0menv\u001b[0m\u001b[0;34m.\u001b[0m\u001b[0magents_pos\u001b[0m\u001b[0;34m[\u001b[0m\u001b[0mi\u001b[0m\u001b[0;34m]\u001b[0m\u001b[0;34m)\u001b[0m  \u001b[0;31m# Track position\u001b[0m\u001b[0;34m\u001b[0m\u001b[0;34m\u001b[0m\u001b[0m\n\u001b[1;32m     24\u001b[0m                 \u001b[0mrewards_per_step\u001b[0m\u001b[0;34m[\u001b[0m\u001b[0mi\u001b[0m\u001b[0;34m]\u001b[0m\u001b[0;34m.\u001b[0m\u001b[0mappend\u001b[0m\u001b[0;34m(\u001b[0m\u001b[0mrewards\u001b[0m\u001b[0;34m)\u001b[0m  \u001b[0;31m# Track reward at each step\u001b[0m\u001b[0;34m\u001b[0m\u001b[0;34m\u001b[0m\u001b[0m\n",
            "\u001b[0;31mTypeError\u001b[0m: 'bool' object is not subscriptable"
          ]
        }
      ],
      "source": [
        "import matplotlib.pyplot as plt\n",
        "import time\n",
        "\n",
        "# Function to test both agents and collect the necessary data\n",
        "def test_agents(env, model, max_steps=100):\n",
        "    obs = env.reset()\n",
        "    total_rewards = [0] * env.num_agents  # Track total rewards for each agent\n",
        "    steps = [0] * env.num_agents  # Track the number of steps each agent takes\n",
        "    rewards_per_step = [[] for _ in range(env.num_agents)]  # Track rewards at each step\n",
        "    positions = [[] for _ in range(env.num_agents)]  # Track positions of each agent\n",
        "    done_list = [False] * env.num_agents  # Track whether each agent has finished\n",
        "\n",
        "    # Start time measurement\n",
        "    start_time = time.time()\n",
        "\n",
        "    for step in range(max_steps):\n",
        "        actions, _states = model.predict(obs)  # Get actions for both agents\n",
        "        obs, rewards, done_list, _ = env.step(actions)\n",
        "\n",
        "        # Track data for each agent\n",
        "        for i in range(env.num_agents):\n",
        "            if not done_list[i]:  # Only track if the agent is still moving\n",
        "                positions[i].append(env.agents_pos[i])  # Track position\n",
        "                rewards_per_step[i].append(rewards)  # Track reward at each step\n",
        "                total_rewards[i] += rewards  # Accumulate reward\n",
        "                steps[i] += 1  # Increment step count\n",
        "\n",
        "        env.render()  # Render the environment during testing\n",
        "\n",
        "        # If all agents are done, break the loop\n",
        "        if all(done_list):\n",
        "            print(\"All agents reached their goals!\")\n",
        "            break\n",
        "\n",
        "    # End time measurement\n",
        "    end_time = time.time()\n",
        "\n",
        "    # Calculate total time taken for both agents to finish\n",
        "    total_time = end_time - start_time\n",
        "\n",
        "    return total_rewards, steps, positions, rewards_per_step, total_time\n",
        "\n",
        "# Function to visualize the results for both agents\n",
        "def visualize_agents_results(total_rewards, steps, positions, rewards_per_step, total_time):\n",
        "    num_agents = len(total_rewards)\n",
        "\n",
        "    # Set up subplots for visualization\n",
        "    fig, axs = plt.subplots(4, num_agents, figsize=(6 * num_agents, 16))\n",
        "\n",
        "    for i in range(num_agents):\n",
        "        # 1. Rewards per step\n",
        "        axs[0, i].plot(rewards_per_step[i], marker='o', color='blue')\n",
        "        axs[0, i].set_title(f'Agent {i+1} - Rewards per Step')\n",
        "        axs[0, i].set_xlabel('Step')\n",
        "        axs[0, i].set_ylabel('Reward')\n",
        "        axs[0, i].grid(True)\n",
        "\n",
        "        # 2. Total rewards (accumulated rewards)\n",
        "        axs[1, i].bar([f'Agent {i+1}'], [total_rewards[i]], color='green')\n",
        "        axs[1, i].set_title(f'Agent {i+1} - Total Rewards')\n",
        "        axs[1, i].set_ylabel('Total Reward')\n",
        "        axs[1, i].grid(True)\n",
        "\n",
        "        # 3. Total steps taken by each agent\n",
        "        axs[2, i].bar([f'Agent {i+1}'], [steps[i]], color='orange')\n",
        "        axs[2, i].set_title(f'Agent {i+1} - Total Steps Taken')\n",
        "        axs[2, i].set_ylabel('Steps')\n",
        "        axs[2, i].grid(True)\n",
        "\n",
        "        # 4. Path of the agent\n",
        "        x_positions = [pos[1] for pos in positions[i]]  # Extract X coordinates\n",
        "        y_positions = [pos[0] for pos in positions[i]]  # Extract Y coordinates\n",
        "        axs[3, i].plot(x_positions, y_positions, marker='o', color='red')\n",
        "        axs[3, i].set_title(f'Agent {i+1} - Path Taken')\n",
        "        axs[3, i].set_xlabel('X Position')\n",
        "        axs[3, i].set_ylabel('Y Position')\n",
        "        axs[3, i].grid(True)\n",
        "\n",
        "    # Display total time taken for both agents to finish\n",
        "    fig.suptitle(f\"Total Time Taken: {total_time:.2f} seconds\", fontsize=16)\n",
        "\n",
        "    # Adjust layout\n",
        "    plt.tight_layout(rect=[0, 0.03, 1, 0.95])\n",
        "    plt.show()\n",
        "\n",
        "# Initialize the environment and load the trained model\n",
        "env = MultiAgentWarehouseEnv(rows=5, cols=5, num_agents=2, num_obstacles=3)\n",
        "\n",
        "# Test the agents and collect the necessary data\n",
        "total_rewards, steps, positions, rewards_per_step, total_time = test_agents(env, model)\n",
        "\n",
        "# Visualize the results for both agents\n",
        "visualize_agents_results(total_rewards, steps, positions, rewards_per_step, total_time)\n"
      ]
    },
    {
      "cell_type": "code",
      "execution_count": null,
      "metadata": {
        "id": "Uoext_G1IBYq"
      },
      "outputs": [],
      "source": []
    }
  ],
  "metadata": {
    "colab": {
      "provenance": []
    },
    "kernelspec": {
      "display_name": "Python 3",
      "name": "python3"
    },
    "language_info": {
      "name": "python"
    }
  },
  "nbformat": 4,
  "nbformat_minor": 0
}
