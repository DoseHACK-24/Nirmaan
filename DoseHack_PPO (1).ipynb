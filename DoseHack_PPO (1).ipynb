{
 "cells": [
  {
   "cell_type": "code",
   "execution_count": 1,
   "metadata": {
    "colab": {
     "base_uri": "https://localhost:8080/"
    },
    "id": "ztZ8fZlZIAXI",
    "outputId": "7ce1645d-656f-4f48-efe6-897135626f5e"
   },
   "outputs": [
    {
     "name": "stdout",
     "output_type": "stream",
     "text": [
      "Collecting stable-baselines3\n",
      "  Downloading stable_baselines3-2.3.2-py3-none-any.whl.metadata (5.1 kB)\n",
      "Requirement already satisfied: gym in /usr/local/lib/python3.10/dist-packages (0.25.2)\n",
      "Requirement already satisfied: numpy in /usr/local/lib/python3.10/dist-packages (1.26.4)\n",
      "Collecting gymnasium<0.30,>=0.28.1 (from stable-baselines3)\n",
      "  Downloading gymnasium-0.29.1-py3-none-any.whl.metadata (10 kB)\n",
      "Requirement already satisfied: torch>=1.13 in /usr/local/lib/python3.10/dist-packages (from stable-baselines3) (2.4.1+cu121)\n",
      "Requirement already satisfied: cloudpickle in /usr/local/lib/python3.10/dist-packages (from stable-baselines3) (2.2.1)\n",
      "Requirement already satisfied: pandas in /usr/local/lib/python3.10/dist-packages (from stable-baselines3) (2.1.4)\n",
      "Requirement already satisfied: matplotlib in /usr/local/lib/python3.10/dist-packages (from stable-baselines3) (3.7.1)\n",
      "Requirement already satisfied: gym-notices>=0.0.4 in /usr/local/lib/python3.10/dist-packages (from gym) (0.0.8)\n",
      "Requirement already satisfied: typing-extensions>=4.3.0 in /usr/local/lib/python3.10/dist-packages (from gymnasium<0.30,>=0.28.1->stable-baselines3) (4.12.2)\n",
      "Collecting farama-notifications>=0.0.1 (from gymnasium<0.30,>=0.28.1->stable-baselines3)\n",
      "  Downloading Farama_Notifications-0.0.4-py3-none-any.whl.metadata (558 bytes)\n",
      "Requirement already satisfied: filelock in /usr/local/lib/python3.10/dist-packages (from torch>=1.13->stable-baselines3) (3.16.1)\n",
      "Requirement already satisfied: sympy in /usr/local/lib/python3.10/dist-packages (from torch>=1.13->stable-baselines3) (1.13.3)\n",
      "Requirement already satisfied: networkx in /usr/local/lib/python3.10/dist-packages (from torch>=1.13->stable-baselines3) (3.3)\n",
      "Requirement already satisfied: jinja2 in /usr/local/lib/python3.10/dist-packages (from torch>=1.13->stable-baselines3) (3.1.4)\n",
      "Requirement already satisfied: fsspec in /usr/local/lib/python3.10/dist-packages (from torch>=1.13->stable-baselines3) (2024.6.1)\n",
      "Requirement already satisfied: contourpy>=1.0.1 in /usr/local/lib/python3.10/dist-packages (from matplotlib->stable-baselines3) (1.3.0)\n",
      "Requirement already satisfied: cycler>=0.10 in /usr/local/lib/python3.10/dist-packages (from matplotlib->stable-baselines3) (0.12.1)\n",
      "Requirement already satisfied: fonttools>=4.22.0 in /usr/local/lib/python3.10/dist-packages (from matplotlib->stable-baselines3) (4.53.1)\n",
      "Requirement already satisfied: kiwisolver>=1.0.1 in /usr/local/lib/python3.10/dist-packages (from matplotlib->stable-baselines3) (1.4.7)\n",
      "Requirement already satisfied: packaging>=20.0 in /usr/local/lib/python3.10/dist-packages (from matplotlib->stable-baselines3) (24.1)\n",
      "Requirement already satisfied: pillow>=6.2.0 in /usr/local/lib/python3.10/dist-packages (from matplotlib->stable-baselines3) (10.4.0)\n",
      "Requirement already satisfied: pyparsing>=2.3.1 in /usr/local/lib/python3.10/dist-packages (from matplotlib->stable-baselines3) (3.1.4)\n",
      "Requirement already satisfied: python-dateutil>=2.7 in /usr/local/lib/python3.10/dist-packages (from matplotlib->stable-baselines3) (2.8.2)\n",
      "Requirement already satisfied: pytz>=2020.1 in /usr/local/lib/python3.10/dist-packages (from pandas->stable-baselines3) (2024.2)\n",
      "Requirement already satisfied: tzdata>=2022.1 in /usr/local/lib/python3.10/dist-packages (from pandas->stable-baselines3) (2024.1)\n",
      "Requirement already satisfied: six>=1.5 in /usr/local/lib/python3.10/dist-packages (from python-dateutil>=2.7->matplotlib->stable-baselines3) (1.16.0)\n",
      "Requirement already satisfied: MarkupSafe>=2.0 in /usr/local/lib/python3.10/dist-packages (from jinja2->torch>=1.13->stable-baselines3) (2.1.5)\n",
      "Requirement already satisfied: mpmath<1.4,>=1.1.0 in /usr/local/lib/python3.10/dist-packages (from sympy->torch>=1.13->stable-baselines3) (1.3.0)\n",
      "Downloading stable_baselines3-2.3.2-py3-none-any.whl (182 kB)\n",
      "\u001b[2K   \u001b[90m━━━━━━━━━━━━━━━━━━━━━━━━━━━━━━━━━━━━━━━━\u001b[0m \u001b[32m182.3/182.3 kB\u001b[0m \u001b[31m3.8 MB/s\u001b[0m eta \u001b[36m0:00:00\u001b[0m\n",
      "\u001b[?25hDownloading gymnasium-0.29.1-py3-none-any.whl (953 kB)\n",
      "\u001b[2K   \u001b[90m━━━━━━━━━━━━━━━━━━━━━━━━━━━━━━━━━━━━━━━━\u001b[0m \u001b[32m953.9/953.9 kB\u001b[0m \u001b[31m18.3 MB/s\u001b[0m eta \u001b[36m0:00:00\u001b[0m\n",
      "\u001b[?25hDownloading Farama_Notifications-0.0.4-py3-none-any.whl (2.5 kB)\n",
      "Installing collected packages: farama-notifications, gymnasium, stable-baselines3\n",
      "Successfully installed farama-notifications-0.0.4 gymnasium-0.29.1 stable-baselines3-2.3.2\n"
     ]
    }
   ],
   "source": [
    "pip install stable-baselines3 gym numpy"
   ]
  },
  {
   "cell_type": "code",
   "execution_count": 5,
   "metadata": {
    "colab": {
     "base_uri": "https://localhost:8080/"
    },
    "id": "Gjffz1w_IQ39",
    "outputId": "2fd9a695-a11c-4d3d-f598-d450cad3deff"
   },
   "outputs": [
    {
     "name": "stdout",
     "output_type": "stream",
     "text": [
      "Requirement already satisfied: shimmy in /usr/local/lib/python3.10/dist-packages (2.0.0)\n",
      "Requirement already satisfied: numpy>=1.18.0 in /usr/local/lib/python3.10/dist-packages (from shimmy) (1.26.4)\n",
      "Requirement already satisfied: gymnasium>=1.0.0a1 in /usr/local/lib/python3.10/dist-packages (from shimmy) (1.0.0a2)\n",
      "Requirement already satisfied: cloudpickle>=1.2.0 in /usr/local/lib/python3.10/dist-packages (from gymnasium>=1.0.0a1->shimmy) (2.2.1)\n",
      "Requirement already satisfied: typing-extensions>=4.3.0 in /usr/local/lib/python3.10/dist-packages (from gymnasium>=1.0.0a1->shimmy) (4.12.2)\n",
      "Requirement already satisfied: farama-notifications>=0.0.1 in /usr/local/lib/python3.10/dist-packages (from gymnasium>=1.0.0a1->shimmy) (0.0.4)\n"
     ]
    }
   ],
   "source": [
    "pip install shimmy"
   ]
  },
  {
   "cell_type": "code",
   "execution_count": 1,
   "metadata": {
    "colab": {
     "base_uri": "https://localhost:8080/"
    },
    "id": "aoA0uTPXIBEE",
    "outputId": "a9ac045f-cb84-4503-9e16-a413220c60d5"
   },
   "outputs": [],
   "source": [
    "import gym\n",
    "from gym import spaces\n",
    "import numpy as np\n",
    "import matplotlib.pyplot as plt\n",
    "from matplotlib.patches import Rectangle\n",
    "from IPython.display import Image, display\n",
    "from matplotlib.patches import Rectangle\n",
    "from IPython.display import clear_output\n",
    "import os\n",
    "import time\n",
    "\n",
    "class WarehouseEnv(gym.Env):\n",
    "    \"\"\"Custom Environment with graphical visualization using Matplotlib.\"\"\"\n",
    "    metadata = {'render.modes': ['human']}\n",
    "\n",
    "    def __init__(self, rows, cols, obstacles, start_pos, goal_pos):\n",
    "        super(WarehouseEnv, self).__init__()\n",
    "        self.rows = rows\n",
    "        self.cols = cols\n",
    "        self.grid = np.zeros((rows, cols))  # Empty grid initialized\n",
    "        self.obstacles = obstacles\n",
    "        self.start_pos = start_pos\n",
    "        self.goal_pos = goal_pos\n",
    "        self.current_pos = start_pos\n",
    "\n",
    "        # Define action and observation space\n",
    "        self.action_space = spaces.Discrete(5)\n",
    "        self.observation_space = spaces.Box(low=0, high=max(self.rows, self.cols), shape=(2,), dtype=np.int32)\n",
    "\n",
    "        # Mark obstacles on the grid\n",
    "        for (x, y) in obstacles:\n",
    "            self.grid[x][y] = -1  # Obstacle marked as -1\n",
    "\n",
    "        # Create a figure and axis for rendering\n",
    "        self.fig, self.ax = plt.subplots()\n",
    "\n",
    "    def reset(self):\n",
    "        \"\"\" Reset the environment to the initial state \"\"\"\n",
    "        self.current_pos = self.start_pos\n",
    "        return np.array(self.current_pos)\n",
    "\n",
    "    def step(self, action):\n",
    "        \"\"\" Execute one time step in the environment \"\"\"\n",
    "        x, y = self.current_pos\n",
    "\n",
    "        if action == 0:  # Forward\n",
    "            new_pos = (x-1, y)\n",
    "        elif action == 1:  # Reverse\n",
    "            new_pos = (x+1, y)\n",
    "        elif action == 2:  # Left\n",
    "            new_pos = (x, y-1)\n",
    "        elif action == 3:  # Right\n",
    "            new_pos = (x, y+1)\n",
    "        elif action == 4:  # Wait\n",
    "            new_pos = (x, y)  # No movement\n",
    "\n",
    "        # Ensure the move is valid\n",
    "        if self.is_valid_position(new_pos):\n",
    "            self.current_pos = new_pos\n",
    "\n",
    "        # Calculate reward\n",
    "        reward = self.get_reward()\n",
    "\n",
    "        # Check if episode is done\n",
    "        done = bool(self.current_pos == self.goal_pos)\n",
    "\n",
    "        return np.array(self.current_pos), reward, done, {}\n",
    "\n",
    "    def is_valid_position(self, pos):\n",
    "        \"\"\" Check if a position is within the grid and not an obstacle \"\"\"\n",
    "        x, y = pos\n",
    "        return 0 <= x < self.rows and 0 <= y < self.cols and self.grid[x][y] == 0\n",
    "\n",
    "    def get_reward(self):\n",
    "        \"\"\" Get the reward for the current position \"\"\"\n",
    "        if self.current_pos == self.goal_pos:\n",
    "            return 100  # Reached destination\n",
    "        elif self.current_pos in self.obstacles:\n",
    "            return -10  # Hit an obstacle\n",
    "        else:\n",
    "            return -1  # Time penalty\n",
    "\n",
    "    def render(self, mode='human'):\n",
    "        \"\"\" Render the environment in Colab using Matplotlib and IPython display \"\"\"\n",
    "        # Clear the previous output\n",
    "        clear_output(wait=True)\n",
    "\n",
    "        # Create the figure and axes\n",
    "        fig, ax = plt.subplots(figsize=(5, 5))\n",
    "\n",
    "        # Draw grid and obstacles\n",
    "        for x in range(self.rows):\n",
    "            for y in range(self.cols):\n",
    "                ax.add_patch(Rectangle((y, x), 1, 1, fill=False, edgecolor='gray'))\n",
    "\n",
    "        # Draw obstacles\n",
    "        for (x, y) in self.obstacles:\n",
    "            ax.add_patch(Rectangle((y, x), 1, 1, color='black'))\n",
    "\n",
    "        # Draw goal\n",
    "        goal_x, goal_y = self.goal_pos\n",
    "        ax.add_patch(Rectangle((goal_y, goal_x), 1, 1, color='green'))\n",
    "\n",
    "        # Draw bot\n",
    "        bot_x, bot_y = self.current_pos\n",
    "        ax.add_patch(Rectangle((bot_y, bot_x), 1, 1, color='blue'))\n",
    "\n",
    "        # Set axis limits and labels\n",
    "        ax.set_xlim([0, self.cols])\n",
    "        ax.set_ylim([0, self.rows])\n",
    "        ax.set_xticks(np.arange(0, self.cols, 1))\n",
    "        ax.set_yticks(np.arange(0, self.rows, 1))\n",
    "        ax.grid(True)\n",
    "        ax.set_title(f\"Bot position: {self.current_pos}, Goal: {self.goal_pos}\")\n",
    "\n",
    "        # Show the plot\n",
    "        plt.show()\n",
    "        time.sleep(0.1)  # Pause for a moment to allow visualization\n",
    "\n",
    "    def close(self):\n",
    "        plt.close()"
   ]
  },
  {
   "cell_type": "code",
   "execution_count": 4,
   "metadata": {
    "colab": {
     "base_uri": "https://localhost:8080/",
     "height": 485
    },
    "id": "n6mn8Q6IIIGE",
    "outputId": "9719bc74-d535-418d-b48d-326c3e0ae930"
   },
   "outputs": [
    {
     "data": {
      "image/png": "[encoded data removed]",
      "text/plain": [
       "<Figure size 500x500 with 1 Axes>"
      ]
     },
     "metadata": {},
     "output_type": "display_data"
    },
    {
     "name": "stdout",
     "output_type": "stream",
     "text": [
      "Goal reached!\n"
     ]
    }
   ],
   "source": [
    "from stable_baselines3 import PPO\n",
    "\n",
    "# Initialize the environment\n",
    "obstacles = [(1, 1), (2, 2), (3, 3)]\n",
    "env = WarehouseEnv(rows=5, cols=5, obstacles=obstacles, start_pos=(0, 0), goal_pos=(4, 4))\n",
    "\n",
    "# Train using PPO algorithm\n",
    "model = PPO(\"MlpPolicy\", env, verbose=1)\n",
    "model.learn(total_timesteps=10000)\n",
    "# model.save(\"ppo_warehouse_agent\")\n",
    "\n",
    "# Test the trained model and render the environment\n",
    "obs = env.reset()\n",
    "for i in range(100):\n",
    "    action, _states = model.predict(obs)\n",
    "    obs, reward, done, info = env.step(action)\n",
    "    env.render()  # Render the environment with Matplotlib visualization\n",
    "    if done:\n",
    "        print(\"Goal reached!\")\n",
    "        break\n",
    "\n",
    "env.close()  # Close the visualization window\n"
   ]
  },
  {
   "cell_type": "code",
   "execution_count": 5,
   "metadata": {
    "colab": {
     "base_uri": "https://localhost:8080/",
     "height": 485
    },
    "id": "Q3l_cciVIKoc",
    "outputId": "518f0469-64ca-4103-977f-50f87b6d0b43"
   },
   "outputs": [
    {
     "data": {
      "image/png": "[encoded data removed]",
      "text/plain": [
       "<Figure size 500x500 with 1 Axes>"
      ]
     },
     "metadata": {},
     "output_type": "display_data"
    },
    {
     "name": "stdout",
     "output_type": "stream",
     "text": [
      "Goal reached!\n"
     ]
    }
   ],
   "source": [
    "# Load the trained model\n",
    "# model = PPO.load(\"ppo_warehouse_agent\")\n",
    "\n",
    "# Reset the environment\n",
    "obs = env.reset()\n",
    "\n",
    "for i in range(100):  # Run for 100 steps or until done\n",
    "    action, _states = model.predict(obs)\n",
    "    obs, reward, done, info = env.step(action)\n",
    "    env.render()  # Visualize each step\n",
    "    if done:\n",
    "        print(\"Goal reached!\")\n",
    "        break"
   ]
  },
  {
   "cell_type": "code",
   "execution_count": 6,
   "metadata": {
    "id": "I9sIfR-OIjYH"
   },
   "outputs": [],
   "source": [
    "import gym\n",
    "from gym import spaces\n",
    "import numpy as np\n",
    "import matplotlib.pyplot as plt\n",
    "from matplotlib.patches import Rectangle\n",
    "from IPython.display import clear_output\n",
    "import random\n",
    "import time\n",
    "\n",
    "class WarehouseEnv(gym.Env):\n",
    "    \"\"\"Custom Environment that dynamically adjusts objects in the grid.\"\"\"\n",
    "    metadata = {'render.modes': ['human']}\n",
    "\n",
    "    def __init__(self, rows, cols, num_obstacles, start_pos=None, goal_pos=None):\n",
    "        super(WarehouseEnv, self).__init__()\n",
    "        self.rows = rows\n",
    "        self.cols = cols\n",
    "        self.num_obstacles = num_obstacles\n",
    "        self.obstacles = []  # Obstacles will be placed dynamically\n",
    "        self.start_pos = start_pos\n",
    "        self.goal_pos = goal_pos\n",
    "        self.current_pos = start_pos\n",
    "\n",
    "        # Define action and observation space\n",
    "        self.action_space = spaces.Discrete(5)  # 5 possible actions (Forward, Reverse, Left, Right, Wait)\n",
    "        self.observation_space = spaces.Box(low=0, high=max(self.rows, self.cols), shape=(2,), dtype=np.int32)\n",
    "\n",
    "        # Create a grid where obstacles will be placed later\n",
    "        self.grid = np.zeros((rows, cols))  # Empty grid initialized\n",
    "\n",
    "    def reset(self):\n",
    "        \"\"\" Reset the environment by dynamically placing objects. \"\"\"\n",
    "        # Clear the grid\n",
    "        self.grid = np.zeros((self.rows, self.cols))\n",
    "\n",
    "        # Randomly place the start position, goal position, and obstacles\n",
    "        self._place_dynamic_objects()\n",
    "\n",
    "        # Set the bot's initial position\n",
    "        self.current_pos = self.start_pos\n",
    "        return np.array(self.current_pos)\n",
    "\n",
    "    def _place_dynamic_objects(self):\n",
    "        \"\"\" Dynamically place the start position, goal, and obstacles. \"\"\"\n",
    "        # Clear any previous obstacles\n",
    "        self.obstacles.clear()\n",
    "\n",
    "        # Get all possible positions on the grid\n",
    "        all_positions = [(x, y) for x in range(self.rows) for y in range(self.cols)]\n",
    "\n",
    "        # Randomly pick a start position\n",
    "        self.start_pos = random.choice(all_positions)\n",
    "        all_positions.remove(self.start_pos)\n",
    "\n",
    "        # Randomly pick a goal position, making sure it's different from the start\n",
    "        self.goal_pos = random.choice(all_positions)\n",
    "        all_positions.remove(self.goal_pos)\n",
    "\n",
    "        # Randomly place obstacles, avoiding the start and goal positions\n",
    "        for _ in range(self.num_obstacles):\n",
    "            obstacle_pos = random.choice(all_positions)\n",
    "            self.obstacles.append(obstacle_pos)\n",
    "            all_positions.remove(obstacle_pos)\n",
    "\n",
    "        # Mark obstacles on the grid\n",
    "        for (x, y) in self.obstacles:\n",
    "            self.grid[x][y] = -1  # Mark obstacle positions as -1\n",
    "\n",
    "    def step(self, action):\n",
    "        \"\"\" Execute one time step in the environment \"\"\"\n",
    "        x, y = self.current_pos\n",
    "\n",
    "        if action == 0:  # Forward\n",
    "            new_pos = (x-1, y)\n",
    "        elif action == 1:  # Reverse\n",
    "            new_pos = (x+1, y)\n",
    "        elif action == 2:  # Left\n",
    "            new_pos = (x, y-1)\n",
    "        elif action == 3:  # Right\n",
    "            new_pos = (x, y+1)\n",
    "        elif action == 4:  # Wait\n",
    "            new_pos = (x, y)  # No movement\n",
    "\n",
    "        # Ensure the move is valid\n",
    "        if self.is_valid_position(new_pos):\n",
    "            self.current_pos = new_pos\n",
    "\n",
    "        # Calculate reward\n",
    "        reward = self.get_reward()\n",
    "\n",
    "        # Check if episode is done\n",
    "        done = bool(self.current_pos == self.goal_pos)\n",
    "\n",
    "        return np.array(self.current_pos), reward, done, {}\n",
    "\n",
    "    def is_valid_position(self, pos):\n",
    "        \"\"\" Check if a position is within the grid and not an obstacle \"\"\"\n",
    "        x, y = pos\n",
    "        return 0 <= x < self.rows and 0 <= y < self.cols and self.grid[x][y] == 0\n",
    "\n",
    "    def get_reward(self):\n",
    "        \"\"\" Get the reward for the current position \"\"\"\n",
    "        if self.current_pos == self.goal_pos:\n",
    "            return 100  # Reached destination\n",
    "        elif self.current_pos in self.obstacles:\n",
    "            return -10  # Hit an obstacle\n",
    "        else:\n",
    "            return -1  # Time penalty\n",
    "\n",
    "    def render(self, mode='human'):\n",
    "        \"\"\" Render the environment in Colab using Matplotlib and IPython display \"\"\"\n",
    "        clear_output(wait=True)\n",
    "        fig, ax = plt.subplots(figsize=(5, 5))\n",
    "\n",
    "        # Draw grid and obstacles\n",
    "        for x in range(self.rows):\n",
    "            for y in range(self.cols):\n",
    "                ax.add_patch(Rectangle((y, x), 1, 1, fill=False, edgecolor='gray'))\n",
    "\n",
    "        # Draw obstacles\n",
    "        for (x, y) in self.obstacles:\n",
    "            ax.add_patch(Rectangle((y, x), 1, 1, color='black'))\n",
    "\n",
    "        # Draw goal\n",
    "        goal_x, goal_y = self.goal_pos\n",
    "        ax.add_patch(Rectangle((goal_y, goal_x), 1, 1, color='green'))\n",
    "\n",
    "        # Draw bot\n",
    "        bot_x, bot_y = self.current_pos\n",
    "        ax.add_patch(Rectangle((bot_y, bot_x), 1, 1, color='blue'))\n",
    "\n",
    "        ax.set_xlim([0, self.cols])\n",
    "        ax.set_ylim([0, self.rows])\n",
    "        ax.set_xticks(np.arange(0, self.cols, 1))\n",
    "        ax.set_yticks(np.arange(0, self.rows, 1))\n",
    "        ax.grid(True)\n",
    "        ax.set_title(f\"Bot position: {self.current_pos}, Goal: {self.goal_pos}\")\n",
    "\n",
    "        plt.show()\n",
    "        time.sleep(0.1)\n",
    "\n",
    "    def close(self):\n",
    "        plt.close()\n"
   ]
  },
  {
   "cell_type": "code",
   "execution_count": 11,
   "metadata": {
    "colab": {
     "base_uri": "https://localhost:8080/",
     "height": 485
    },
    "id": "pxMsk6YuNj8i",
    "outputId": "b945a23b-4cde-4a37-c21b-47ab846794e6"
   },
   "outputs": [
    {
     "name": "stdout",
     "output_type": "stream",
     "text": [
      "Using cpu device\n",
      "Wrapping the env with a `Monitor` wrapper\n",
      "Wrapping the env in a DummyVecEnv.\n"
     ]
    },
    {
     "ename": "IndexError",
     "evalue": "tuple index out of range",
     "output_type": "error",
     "traceback": [
      "\u001b[1;31m---------------------------------------------------------------------------\u001b[0m",
      "\u001b[1;31mIndexError\u001b[0m                                Traceback (most recent call last)",
      "Cell \u001b[1;32mIn[11], line 19\u001b[0m\n\u001b[0;32m     16\u001b[0m model \u001b[38;5;241m=\u001b[39m PPO(\u001b[38;5;124m\"\u001b[39m\u001b[38;5;124mMlpPolicy\u001b[39m\u001b[38;5;124m\"\u001b[39m, env, verbose\u001b[38;5;241m=\u001b[39m\u001b[38;5;241m1\u001b[39m)\n\u001b[0;32m     18\u001b[0m \u001b[38;5;66;03m# Train the model and save checkpoints dynamically\u001b[39;00m\n\u001b[1;32m---> 19\u001b[0m model\u001b[38;5;241m.\u001b[39mlearn(total_timesteps\u001b[38;5;241m=\u001b[39m\u001b[38;5;241m10000\u001b[39m, callback\u001b[38;5;241m=\u001b[39mcheckpoint_callback)\n\u001b[0;32m     21\u001b[0m obs \u001b[38;5;241m=\u001b[39m env\u001b[38;5;241m.\u001b[39mreset()\n\u001b[0;32m     22\u001b[0m \u001b[38;5;28;01mfor\u001b[39;00m i \u001b[38;5;129;01min\u001b[39;00m \u001b[38;5;28mrange\u001b[39m(\u001b[38;5;241m100\u001b[39m):\n",
      "File \u001b[1;32m~\\miniconda3\\Lib\\site-packages\\stable_baselines3\\ppo\\ppo.py:311\u001b[0m, in \u001b[0;36mPPO.learn\u001b[1;34m(self, total_timesteps, callback, log_interval, tb_log_name, reset_num_timesteps, progress_bar)\u001b[0m\n\u001b[0;32m    302\u001b[0m \u001b[38;5;28;01mdef\u001b[39;00m \u001b[38;5;21mlearn\u001b[39m(\n\u001b[0;32m    303\u001b[0m     \u001b[38;5;28mself\u001b[39m: SelfPPO,\n\u001b[0;32m    304\u001b[0m     total_timesteps: \u001b[38;5;28mint\u001b[39m,\n\u001b[1;32m   (...)\u001b[0m\n\u001b[0;32m    309\u001b[0m     progress_bar: \u001b[38;5;28mbool\u001b[39m \u001b[38;5;241m=\u001b[39m \u001b[38;5;28;01mFalse\u001b[39;00m,\n\u001b[0;32m    310\u001b[0m ) \u001b[38;5;241m-\u001b[39m\u001b[38;5;241m>\u001b[39m SelfPPO:\n\u001b[1;32m--> 311\u001b[0m     \u001b[38;5;28;01mreturn\u001b[39;00m \u001b[38;5;28msuper\u001b[39m()\u001b[38;5;241m.\u001b[39mlearn(\n\u001b[0;32m    312\u001b[0m         total_timesteps\u001b[38;5;241m=\u001b[39mtotal_timesteps,\n\u001b[0;32m    313\u001b[0m         callback\u001b[38;5;241m=\u001b[39mcallback,\n\u001b[0;32m    314\u001b[0m         log_interval\u001b[38;5;241m=\u001b[39mlog_interval,\n\u001b[0;32m    315\u001b[0m         tb_log_name\u001b[38;5;241m=\u001b[39mtb_log_name,\n\u001b[0;32m    316\u001b[0m         reset_num_timesteps\u001b[38;5;241m=\u001b[39mreset_num_timesteps,\n\u001b[0;32m    317\u001b[0m         progress_bar\u001b[38;5;241m=\u001b[39mprogress_bar,\n\u001b[0;32m    318\u001b[0m     )\n",
      "File \u001b[1;32m~\\miniconda3\\Lib\\site-packages\\stable_baselines3\\common\\on_policy_algorithm.py:300\u001b[0m, in \u001b[0;36mOnPolicyAlgorithm.learn\u001b[1;34m(self, total_timesteps, callback, log_interval, tb_log_name, reset_num_timesteps, progress_bar)\u001b[0m\n\u001b[0;32m    297\u001b[0m \u001b[38;5;28;01massert\u001b[39;00m \u001b[38;5;28mself\u001b[39m\u001b[38;5;241m.\u001b[39menv \u001b[38;5;129;01mis\u001b[39;00m \u001b[38;5;129;01mnot\u001b[39;00m \u001b[38;5;28;01mNone\u001b[39;00m\n\u001b[0;32m    299\u001b[0m \u001b[38;5;28;01mwhile\u001b[39;00m \u001b[38;5;28mself\u001b[39m\u001b[38;5;241m.\u001b[39mnum_timesteps \u001b[38;5;241m<\u001b[39m total_timesteps:\n\u001b[1;32m--> 300\u001b[0m     continue_training \u001b[38;5;241m=\u001b[39m \u001b[38;5;28mself\u001b[39m\u001b[38;5;241m.\u001b[39mcollect_rollouts(\u001b[38;5;28mself\u001b[39m\u001b[38;5;241m.\u001b[39menv, callback, \u001b[38;5;28mself\u001b[39m\u001b[38;5;241m.\u001b[39mrollout_buffer, n_rollout_steps\u001b[38;5;241m=\u001b[39m\u001b[38;5;28mself\u001b[39m\u001b[38;5;241m.\u001b[39mn_steps)\n\u001b[0;32m    302\u001b[0m     \u001b[38;5;28;01mif\u001b[39;00m \u001b[38;5;129;01mnot\u001b[39;00m continue_training:\n\u001b[0;32m    303\u001b[0m         \u001b[38;5;28;01mbreak\u001b[39;00m\n",
      "File \u001b[1;32m~\\miniconda3\\Lib\\site-packages\\stable_baselines3\\common\\on_policy_algorithm.py:201\u001b[0m, in \u001b[0;36mOnPolicyAlgorithm.collect_rollouts\u001b[1;34m(self, env, callback, rollout_buffer, n_rollout_steps)\u001b[0m\n\u001b[0;32m    199\u001b[0m \u001b[38;5;66;03m# Give access to local variables\u001b[39;00m\n\u001b[0;32m    200\u001b[0m callback\u001b[38;5;241m.\u001b[39mupdate_locals(\u001b[38;5;28mlocals\u001b[39m())\n\u001b[1;32m--> 201\u001b[0m \u001b[38;5;28;01mif\u001b[39;00m \u001b[38;5;129;01mnot\u001b[39;00m callback\u001b[38;5;241m.\u001b[39mon_step():\n\u001b[0;32m    202\u001b[0m     \u001b[38;5;28;01mreturn\u001b[39;00m \u001b[38;5;28;01mFalse\u001b[39;00m\n\u001b[0;32m    204\u001b[0m \u001b[38;5;28mself\u001b[39m\u001b[38;5;241m.\u001b[39m_update_info_buffer(infos, dones)\n",
      "File \u001b[1;32m~\\miniconda3\\Lib\\site-packages\\stable_baselines3\\common\\callbacks.py:114\u001b[0m, in \u001b[0;36mBaseCallback.on_step\u001b[1;34m(self)\u001b[0m\n\u001b[0;32m    111\u001b[0m \u001b[38;5;28mself\u001b[39m\u001b[38;5;241m.\u001b[39mn_calls \u001b[38;5;241m+\u001b[39m\u001b[38;5;241m=\u001b[39m \u001b[38;5;241m1\u001b[39m\n\u001b[0;32m    112\u001b[0m \u001b[38;5;28mself\u001b[39m\u001b[38;5;241m.\u001b[39mnum_timesteps \u001b[38;5;241m=\u001b[39m \u001b[38;5;28mself\u001b[39m\u001b[38;5;241m.\u001b[39mmodel\u001b[38;5;241m.\u001b[39mnum_timesteps\n\u001b[1;32m--> 114\u001b[0m \u001b[38;5;28;01mreturn\u001b[39;00m \u001b[38;5;28mself\u001b[39m\u001b[38;5;241m.\u001b[39m_on_step()\n",
      "File \u001b[1;32m~\\miniconda3\\Lib\\site-packages\\stable_baselines3\\common\\callbacks.py:302\u001b[0m, in \u001b[0;36mCheckpointCallback._on_step\u001b[1;34m(self)\u001b[0m\n\u001b[0;32m    300\u001b[0m \u001b[38;5;28;01mif\u001b[39;00m \u001b[38;5;28mself\u001b[39m\u001b[38;5;241m.\u001b[39mn_calls \u001b[38;5;241m%\u001b[39m \u001b[38;5;28mself\u001b[39m\u001b[38;5;241m.\u001b[39msave_freq \u001b[38;5;241m==\u001b[39m \u001b[38;5;241m0\u001b[39m:\n\u001b[0;32m    301\u001b[0m     model_path \u001b[38;5;241m=\u001b[39m \u001b[38;5;28mself\u001b[39m\u001b[38;5;241m.\u001b[39m_checkpoint_path(extension\u001b[38;5;241m=\u001b[39m\u001b[38;5;124m\"\u001b[39m\u001b[38;5;124mzip\u001b[39m\u001b[38;5;124m\"\u001b[39m)\n\u001b[1;32m--> 302\u001b[0m     \u001b[38;5;28mself\u001b[39m\u001b[38;5;241m.\u001b[39mmodel\u001b[38;5;241m.\u001b[39msave(model_path)\n\u001b[0;32m    303\u001b[0m     \u001b[38;5;28;01mif\u001b[39;00m \u001b[38;5;28mself\u001b[39m\u001b[38;5;241m.\u001b[39mverbose \u001b[38;5;241m>\u001b[39m\u001b[38;5;241m=\u001b[39m \u001b[38;5;241m2\u001b[39m:\n\u001b[0;32m    304\u001b[0m         \u001b[38;5;28mprint\u001b[39m(\u001b[38;5;124mf\u001b[39m\u001b[38;5;124m\"\u001b[39m\u001b[38;5;124mSaving model checkpoint to \u001b[39m\u001b[38;5;132;01m{\u001b[39;00mmodel_path\u001b[38;5;132;01m}\u001b[39;00m\u001b[38;5;124m\"\u001b[39m)\n",
      "File \u001b[1;32m~\\miniconda3\\Lib\\site-packages\\stable_baselines3\\common\\base_class.py:866\u001b[0m, in \u001b[0;36mBaseAlgorithm.save\u001b[1;34m(self, path, exclude, include)\u001b[0m\n\u001b[0;32m    863\u001b[0m \u001b[38;5;66;03m# Build dict of state_dicts\u001b[39;00m\n\u001b[0;32m    864\u001b[0m params_to_save \u001b[38;5;241m=\u001b[39m \u001b[38;5;28mself\u001b[39m\u001b[38;5;241m.\u001b[39mget_parameters()\n\u001b[1;32m--> 866\u001b[0m save_to_zip_file(path, data\u001b[38;5;241m=\u001b[39mdata, params\u001b[38;5;241m=\u001b[39mparams_to_save, pytorch_variables\u001b[38;5;241m=\u001b[39mpytorch_variables)\n",
      "File \u001b[1;32m~\\miniconda3\\Lib\\site-packages\\stable_baselines3\\common\\save_util.py:316\u001b[0m, in \u001b[0;36msave_to_zip_file\u001b[1;34m(save_path, data, params, pytorch_variables, verbose)\u001b[0m\n\u001b[0;32m    313\u001b[0m \u001b[38;5;66;03m# data/params can be None, so do not\u001b[39;00m\n\u001b[0;32m    314\u001b[0m \u001b[38;5;66;03m# try to serialize them blindly\u001b[39;00m\n\u001b[0;32m    315\u001b[0m \u001b[38;5;28;01mif\u001b[39;00m data \u001b[38;5;129;01mis\u001b[39;00m \u001b[38;5;129;01mnot\u001b[39;00m \u001b[38;5;28;01mNone\u001b[39;00m:\n\u001b[1;32m--> 316\u001b[0m     serialized_data \u001b[38;5;241m=\u001b[39m data_to_json(data)\n\u001b[0;32m    318\u001b[0m \u001b[38;5;66;03m# Create a zip-archive and write our objects there.\u001b[39;00m\n\u001b[0;32m    319\u001b[0m \u001b[38;5;28;01mwith\u001b[39;00m zipfile\u001b[38;5;241m.\u001b[39mZipFile(file, mode\u001b[38;5;241m=\u001b[39m\u001b[38;5;124m\"\u001b[39m\u001b[38;5;124mw\u001b[39m\u001b[38;5;124m\"\u001b[39m) \u001b[38;5;28;01mas\u001b[39;00m archive:\n\u001b[0;32m    320\u001b[0m     \u001b[38;5;66;03m# Do not try to save \"None\" elements\u001b[39;00m\n",
      "File \u001b[1;32m~\\miniconda3\\Lib\\site-packages\\stable_baselines3\\common\\save_util.py:100\u001b[0m, in \u001b[0;36mdata_to_json\u001b[1;34m(data)\u001b[0m\n\u001b[0;32m     93\u001b[0m     serializable_data[data_key] \u001b[38;5;241m=\u001b[39m data_item\n\u001b[0;32m     94\u001b[0m \u001b[38;5;28;01melse\u001b[39;00m:\n\u001b[0;32m     95\u001b[0m     \u001b[38;5;66;03m# Not serializable, cloudpickle it into\u001b[39;00m\n\u001b[0;32m     96\u001b[0m     \u001b[38;5;66;03m# bytes and convert to base64 string for storing.\u001b[39;00m\n\u001b[0;32m     97\u001b[0m     \u001b[38;5;66;03m# Also store type of the class for consumption\u001b[39;00m\n\u001b[0;32m     98\u001b[0m     \u001b[38;5;66;03m# from other languages/humans, so we have an\u001b[39;00m\n\u001b[0;32m     99\u001b[0m     \u001b[38;5;66;03m# idea what was being stored.\u001b[39;00m\n\u001b[1;32m--> 100\u001b[0m     base64_encoded \u001b[38;5;241m=\u001b[39m base64\u001b[38;5;241m.\u001b[39mb64encode(cloudpickle\u001b[38;5;241m.\u001b[39mdumps(data_item))\u001b[38;5;241m.\u001b[39mdecode()\n\u001b[0;32m    102\u001b[0m     \u001b[38;5;66;03m# Use \":\" to make sure we do\u001b[39;00m\n\u001b[0;32m    103\u001b[0m     \u001b[38;5;66;03m# not override these keys\u001b[39;00m\n\u001b[0;32m    104\u001b[0m     \u001b[38;5;66;03m# when we include variables of the object later\u001b[39;00m\n\u001b[0;32m    105\u001b[0m     cloudpickle_serialization \u001b[38;5;241m=\u001b[39m {\n\u001b[0;32m    106\u001b[0m         \u001b[38;5;124m\"\u001b[39m\u001b[38;5;124m:type:\u001b[39m\u001b[38;5;124m\"\u001b[39m: \u001b[38;5;28mstr\u001b[39m(\u001b[38;5;28mtype\u001b[39m(data_item)),\n\u001b[0;32m    107\u001b[0m         \u001b[38;5;124m\"\u001b[39m\u001b[38;5;124m:serialized:\u001b[39m\u001b[38;5;124m\"\u001b[39m: base64_encoded,\n\u001b[0;32m    108\u001b[0m     }\n",
      "File \u001b[1;32m~\\miniconda3\\Lib\\site-packages\\cloudpickle\\cloudpickle_fast.py:62\u001b[0m, in \u001b[0;36mdumps\u001b[1;34m(obj, protocol)\u001b[0m\n\u001b[0;32m     60\u001b[0m \u001b[38;5;28;01mwith\u001b[39;00m io\u001b[38;5;241m.\u001b[39mBytesIO() \u001b[38;5;28;01mas\u001b[39;00m file:\n\u001b[0;32m     61\u001b[0m     cp \u001b[38;5;241m=\u001b[39m CloudPickler(file, protocol\u001b[38;5;241m=\u001b[39mprotocol)\n\u001b[1;32m---> 62\u001b[0m     cp\u001b[38;5;241m.\u001b[39mdump(obj)\n\u001b[0;32m     63\u001b[0m     \u001b[38;5;28;01mreturn\u001b[39;00m file\u001b[38;5;241m.\u001b[39mgetvalue()\n",
      "File \u001b[1;32m~\\miniconda3\\Lib\\site-packages\\cloudpickle\\cloudpickle_fast.py:538\u001b[0m, in \u001b[0;36mCloudPickler.dump\u001b[1;34m(self, obj)\u001b[0m\n\u001b[0;32m    536\u001b[0m \u001b[38;5;28;01mdef\u001b[39;00m \u001b[38;5;21mdump\u001b[39m(\u001b[38;5;28mself\u001b[39m, obj):\n\u001b[0;32m    537\u001b[0m     \u001b[38;5;28;01mtry\u001b[39;00m:\n\u001b[1;32m--> 538\u001b[0m         \u001b[38;5;28;01mreturn\u001b[39;00m Pickler\u001b[38;5;241m.\u001b[39mdump(\u001b[38;5;28mself\u001b[39m, obj)\n\u001b[0;32m    539\u001b[0m     \u001b[38;5;28;01mexcept\u001b[39;00m \u001b[38;5;167;01mRuntimeError\u001b[39;00m \u001b[38;5;28;01mas\u001b[39;00m e:\n\u001b[0;32m    540\u001b[0m         \u001b[38;5;28;01mif\u001b[39;00m \u001b[38;5;124m\"\u001b[39m\u001b[38;5;124mrecursion\u001b[39m\u001b[38;5;124m\"\u001b[39m \u001b[38;5;129;01min\u001b[39;00m e\u001b[38;5;241m.\u001b[39margs[\u001b[38;5;241m0\u001b[39m]:\n",
      "File \u001b[1;32m~\\miniconda3\\Lib\\site-packages\\cloudpickle\\cloudpickle_fast.py:472\u001b[0m, in \u001b[0;36mCloudPickler.reducer_override\u001b[1;34m(self, obj)\u001b[0m\n\u001b[0;32m    470\u001b[0m     \u001b[38;5;28;01mreturn\u001b[39;00m _class_reduce(obj)\n\u001b[0;32m    471\u001b[0m \u001b[38;5;28;01melif\u001b[39;00m \u001b[38;5;28misinstance\u001b[39m(obj, types\u001b[38;5;241m.\u001b[39mFunctionType):\n\u001b[1;32m--> 472\u001b[0m     \u001b[38;5;28;01mreturn\u001b[39;00m \u001b[38;5;28mself\u001b[39m\u001b[38;5;241m.\u001b[39m_function_reduce(obj)\n\u001b[0;32m    473\u001b[0m \u001b[38;5;28;01melse\u001b[39;00m:\n\u001b[0;32m    474\u001b[0m     \u001b[38;5;66;03m# fallback to save_global, including the Pickler's distpatch_table\u001b[39;00m\n\u001b[0;32m    475\u001b[0m     \u001b[38;5;28;01mreturn\u001b[39;00m \u001b[38;5;28mNotImplemented\u001b[39m\n",
      "File \u001b[1;32m~\\miniconda3\\Lib\\site-packages\\cloudpickle\\cloudpickle_fast.py:501\u001b[0m, in \u001b[0;36mCloudPickler._function_reduce\u001b[1;34m(self, obj)\u001b[0m\n\u001b[0;32m    499\u001b[0m     \u001b[38;5;28;01mreturn\u001b[39;00m \u001b[38;5;28mNotImplemented\u001b[39m\n\u001b[0;32m    500\u001b[0m \u001b[38;5;28;01melse\u001b[39;00m:\n\u001b[1;32m--> 501\u001b[0m     \u001b[38;5;28;01mreturn\u001b[39;00m \u001b[38;5;28mself\u001b[39m\u001b[38;5;241m.\u001b[39m_dynamic_function_reduce(obj)\n",
      "File \u001b[1;32m~\\miniconda3\\Lib\\site-packages\\cloudpickle\\cloudpickle_fast.py:482\u001b[0m, in \u001b[0;36mCloudPickler._dynamic_function_reduce\u001b[1;34m(self, func)\u001b[0m\n\u001b[0;32m    480\u001b[0m \u001b[38;5;250m\u001b[39m\u001b[38;5;124;03m\"\"\"Reduce a function that is not pickleable via attribute lookup.\"\"\"\u001b[39;00m\n\u001b[0;32m    481\u001b[0m newargs \u001b[38;5;241m=\u001b[39m \u001b[38;5;28mself\u001b[39m\u001b[38;5;241m.\u001b[39m_function_getnewargs(func)\n\u001b[1;32m--> 482\u001b[0m state \u001b[38;5;241m=\u001b[39m _function_getstate(func)\n\u001b[0;32m    483\u001b[0m \u001b[38;5;28;01mreturn\u001b[39;00m (types\u001b[38;5;241m.\u001b[39mFunctionType, newargs, state, \u001b[38;5;28;01mNone\u001b[39;00m, \u001b[38;5;28;01mNone\u001b[39;00m,\n\u001b[0;32m    484\u001b[0m         _function_setstate)\n",
      "File \u001b[1;32m~\\miniconda3\\Lib\\site-packages\\cloudpickle\\cloudpickle_fast.py:114\u001b[0m, in \u001b[0;36m_function_getstate\u001b[1;34m(func)\u001b[0m\n\u001b[0;32m     96\u001b[0m \u001b[38;5;28;01mdef\u001b[39;00m \u001b[38;5;21m_function_getstate\u001b[39m(func):\n\u001b[0;32m     97\u001b[0m     \u001b[38;5;66;03m# - Put func's dynamic attributes (stored in func.__dict__) in state. These\u001b[39;00m\n\u001b[0;32m     98\u001b[0m     \u001b[38;5;66;03m#   attributes will be restored at unpickling time using\u001b[39;00m\n\u001b[1;32m   (...)\u001b[0m\n\u001b[0;32m    101\u001b[0m     \u001b[38;5;66;03m#   unpickling time by iterating over slotstate and calling setattr(func,\u001b[39;00m\n\u001b[0;32m    102\u001b[0m     \u001b[38;5;66;03m#   slotname, slotvalue)\u001b[39;00m\n\u001b[0;32m    103\u001b[0m     slotstate \u001b[38;5;241m=\u001b[39m {\n\u001b[0;32m    104\u001b[0m         \u001b[38;5;124m\"\u001b[39m\u001b[38;5;124m__name__\u001b[39m\u001b[38;5;124m\"\u001b[39m: func\u001b[38;5;241m.\u001b[39m\u001b[38;5;18m__name__\u001b[39m,\n\u001b[0;32m    105\u001b[0m         \u001b[38;5;124m\"\u001b[39m\u001b[38;5;124m__qualname__\u001b[39m\u001b[38;5;124m\"\u001b[39m: func\u001b[38;5;241m.\u001b[39m\u001b[38;5;18m__qualname__\u001b[39m,\n\u001b[1;32m   (...)\u001b[0m\n\u001b[0;32m    111\u001b[0m         \u001b[38;5;124m\"\u001b[39m\u001b[38;5;124m__closure__\u001b[39m\u001b[38;5;124m\"\u001b[39m: func\u001b[38;5;241m.\u001b[39m\u001b[38;5;18m__closure__\u001b[39m,\n\u001b[0;32m    112\u001b[0m     }\n\u001b[1;32m--> 114\u001b[0m     f_globals_ref \u001b[38;5;241m=\u001b[39m _extract_code_globals(func\u001b[38;5;241m.\u001b[39m\u001b[38;5;18m__code__\u001b[39m)\n\u001b[0;32m    115\u001b[0m     f_globals \u001b[38;5;241m=\u001b[39m {k: func\u001b[38;5;241m.\u001b[39m\u001b[38;5;18m__globals__\u001b[39m[k] \u001b[38;5;28;01mfor\u001b[39;00m k \u001b[38;5;129;01min\u001b[39;00m f_globals_ref \u001b[38;5;28;01mif\u001b[39;00m k \u001b[38;5;129;01min\u001b[39;00m\n\u001b[0;32m    116\u001b[0m                  func\u001b[38;5;241m.\u001b[39m\u001b[38;5;18m__globals__\u001b[39m}\n\u001b[0;32m    118\u001b[0m     closure_values \u001b[38;5;241m=\u001b[39m (\n\u001b[0;32m    119\u001b[0m         \u001b[38;5;28mlist\u001b[39m(\u001b[38;5;28mmap\u001b[39m(_get_cell_contents, func\u001b[38;5;241m.\u001b[39m\u001b[38;5;18m__closure__\u001b[39m))\n\u001b[0;32m    120\u001b[0m         \u001b[38;5;28;01mif\u001b[39;00m func\u001b[38;5;241m.\u001b[39m\u001b[38;5;18m__closure__\u001b[39m \u001b[38;5;129;01mis\u001b[39;00m \u001b[38;5;129;01mnot\u001b[39;00m \u001b[38;5;28;01mNone\u001b[39;00m \u001b[38;5;28;01melse\u001b[39;00m ()\n\u001b[0;32m    121\u001b[0m     )\n",
      "File \u001b[1;32m~\\miniconda3\\Lib\\site-packages\\cloudpickle\\cloudpickle.py:212\u001b[0m, in \u001b[0;36m_extract_code_globals\u001b[1;34m(co)\u001b[0m\n\u001b[0;32m    210\u001b[0m \u001b[38;5;28;01mif\u001b[39;00m out_names \u001b[38;5;129;01mis\u001b[39;00m \u001b[38;5;28;01mNone\u001b[39;00m:\n\u001b[0;32m    211\u001b[0m     names \u001b[38;5;241m=\u001b[39m co\u001b[38;5;241m.\u001b[39mco_names\n\u001b[1;32m--> 212\u001b[0m     out_names \u001b[38;5;241m=\u001b[39m {names[oparg] \u001b[38;5;28;01mfor\u001b[39;00m _, oparg \u001b[38;5;129;01min\u001b[39;00m _walk_global_ops(co)}\n\u001b[0;32m    214\u001b[0m     \u001b[38;5;66;03m# Declaring a function inside another one using the \"def ...\"\u001b[39;00m\n\u001b[0;32m    215\u001b[0m     \u001b[38;5;66;03m# syntax generates a constant code object corresonding to the one\u001b[39;00m\n\u001b[0;32m    216\u001b[0m     \u001b[38;5;66;03m# of the nested function's As the nested function may itself need\u001b[39;00m\n\u001b[0;32m    217\u001b[0m     \u001b[38;5;66;03m# global variables, we need to introspect its code, extract its\u001b[39;00m\n\u001b[0;32m    218\u001b[0m     \u001b[38;5;66;03m# globals, (look for code object in it's co_consts attribute..) and\u001b[39;00m\n\u001b[0;32m    219\u001b[0m     \u001b[38;5;66;03m# add the result to code_globals\u001b[39;00m\n\u001b[0;32m    220\u001b[0m     \u001b[38;5;28;01mif\u001b[39;00m co\u001b[38;5;241m.\u001b[39mco_consts:\n",
      "\u001b[1;31mIndexError\u001b[0m: tuple index out of range"
     ]
    }
   ],
   "source": [
    "from stable_baselines3 import PPO\n",
    "from stable_baselines3.common.callbacks import CheckpointCallback\n",
    "import os\n",
    "\n",
    "# Initialize the environment\n",
    "env = WarehouseEnv(rows=5, cols=5, num_obstacles=3)\n",
    "\n",
    "# Create the directory to save models\n",
    "# checkpoint_dir = '../'\n",
    "os.makedirs(checkpoint_dir, exist_ok=True)\n",
    "\n",
    "# Define the checkpoint callback to save models every 1000 timesteps\n",
    "checkpoint_callback = CheckpointCallback(save_freq=1000, save_path=checkpoint_dir, name_prefix='ppo_warehouse')\n",
    "\n",
    "# Initialize the PPO model\n",
    "model = PPO(\"MlpPolicy\", env, verbose=1)\n",
    "\n",
    "# Train the model and save checkpoints dynamically\n",
    "model.learn(total_timesteps=10000, callback=checkpoint_callback)\n",
    "\n",
    "obs = env.reset()\n",
    "for i in range(100):\n",
    "    action, _states = model.predict(obs)\n",
    "    obs, reward, done, info = env.step(action)\n",
    "    env.render()  # Render the environment with dynamic objects\n",
    "    if done:\n",
    "        print(\"Goal reached!\")\n",
    "        break\n",
    "\n",
    "env.close()  # Close the visualization window\n"
   ]
  },
  {
   "cell_type": "code",
   "execution_count": 17,
   "metadata": {
    "colab": {
     "base_uri": "https://localhost:8080/",
     "height": 485
    },
    "id": "gt3rw_4PODCM",
    "outputId": "37bead41-ab2d-4ab2-cf53-74d35d02f0d7"
   },
   "outputs": [
    {
     "data": {
      "image/png": "[encoded data removed]",
      "text/plain": [
       "<Figure size 500x500 with 1 Axes>"
      ]
     },
     "metadata": {},
     "output_type": "display_data"
    },
    {
     "name": "stdout",
     "output_type": "stream",
     "text": [
      "Goal reached!\n"
     ]
    }
   ],
   "source": [
    "obs = env.reset()\n",
    "for i in range(100):\n",
    "    action, _states = model.predict(obs)\n",
    "    obs, reward, done, info = env.step(action)\n",
    "    env.render()  # Render the environment with dynamic objects\n",
    "    if done:\n",
    "        print(\"Goal reached!\")\n",
    "        break\n",
    "\n",
    "env.close()  # Close the visualization window\n"
   ]
  },
  {
   "cell_type": "code",
   "execution_count": null,
   "metadata": {
    "id": "Zvicl6rIOjNW"
   },
   "outputs": [],
   "source": []
  }
 ],
 "metadata": {
  "colab": {
   "provenance": []
  },
  "kernelspec": {
   "display_name": "Python 3 (ipykernel)",
   "language": "python",
   "name": "python3"
  },
  "language_info": {
   "codemirror_mode": {
    "name": "ipython",
    "version": 3
   },
   "file_extension": ".py",
   "mimetype": "text/x-python",
   "name": "python",
   "nbconvert_exporter": "python",
   "pygments_lexer": "ipython3",
   "version": "3.12.4"
  }
 },
 "nbformat": 4,
 "nbformat_minor": 4
}
